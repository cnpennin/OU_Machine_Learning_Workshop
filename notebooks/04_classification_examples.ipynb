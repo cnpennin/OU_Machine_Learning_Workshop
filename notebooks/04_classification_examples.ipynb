{
 "cells": [
  {
   "cell_type": "markdown",
   "metadata": {
    "button": false,
    "new_sheet": false,
    "run_control": {
     "read_only": false
    }
   },
   "source": [
    "This notebook is put together by [Qingkai Kong](http://seismo.berkeley.edu/qingkaikong/) from [Berkeley Seismology Lab](http://seismo.berkeley.edu) for the 2019 SSA Machine Learning workshop. If you have any questions, feel free to contact him via kongqk@berkeley.edu. \n",
    "\n",
    "## Example background \n",
    "\n",
    "In this tutorial, we will use a simple example (too simplified to illustrate the ideas ^_^) - classify noise and earthquake signals. \n",
    "\n",
    "I only select one station data, [MNRC](http://seismo.berkeley.edu/station_book/mnrc.html)  from BK network for 20 years (1999-01-01 to 2019-01-01). Seismic data was downloaded for M3 and above within 1 degree, with a window: 5 s before the P wave and 60 second after the P wave. You can find more information about these events in the data folder (EQs_M3_above.csv). Noise data was downloaded based on the 1 hour time gaps that have no earthquakes occured within it. I make the datasets into a balanced dataset, which means that the number of seismic waveforms is the same as that of the noise waveforms. \n",
    "\n",
    "In this tutorial, I will cover what we just learned to train an artificial neural network (ANN) model to classify the seismic signal and noise. I will show the basic steps of how to train a model, from preparing the training data, train/test split, preprocessing, feature selection, hyperparameter tunning to evaluate the model performance. \n",
    "\n",
    "Of course, within this short time workshop, we can not cover everything, but hope this small tutorial notebook can give you a sense how you can easily train a model on your own data. The best way to learn machine learning is to do a project and follow the tutorials examples, both scikit-learn and keras have very good examples that you can improve your skills, do remember to play with them. [Scikit-learn examples](https://scikit-learn.org/stable/auto_examples/index.html) and [Keras Examples](https://github.com/keras-team/keras/tree/master/examples)."
   ]
  },
  {
   "cell_type": "code",
   "execution_count": 1,
   "metadata": {
    "button": false,
    "new_sheet": false,
    "run_control": {
     "read_only": false
    }
   },
   "outputs": [],
   "source": [
    "# import all the needed module\n",
    "import itertools\n",
    "import matplotlib.pyplot as plt\n",
    "# split the data into train/test\n",
    "from sklearn.model_selection import train_test_split\n",
    "# ANN classifier\n",
    "from sklearn.neural_network import MLPClassifier\n",
    "# preprocessing\n",
    "from sklearn.preprocessing import StandardScaler\n",
    "# evaluation \n",
    "from sklearn.metrics import classification_report,confusion_matrix\n",
    "\n",
    "import numpy as np\n",
    "import glob\n",
    "from obspy import read\n",
    "plt.style.use('seaborn-poster')\n",
    "# turn off the warnings\n",
    "import warnings\n",
    "warnings.filterwarnings(\"ignore\")\n",
    "%matplotlib inline"
   ]
  },
  {
   "cell_type": "markdown",
   "metadata": {
    "button": false,
    "new_sheet": false,
    "run_control": {
     "read_only": false
    }
   },
   "source": [
    "## Read in the data\n",
    "\n",
    "The first step is always reading in the data and plot to get a sense what you are working on."
   ]
  },
  {
   "cell_type": "code",
   "execution_count": 2,
   "metadata": {
    "button": false,
    "new_sheet": false,
    "run_control": {
     "read_only": false
    }
   },
   "outputs": [],
   "source": [
    "training_folder = '../data/training_data_classification_regression/'\n",
    "# prepare data\n",
    "waveforms = []\n",
    "labels = []\n",
    "\n",
    "for item in glob.glob(training_folder + 'seismic/*.mseed'):\n",
    "\n",
    "    # read in noise data\n",
    "    st = read(item.replace('seismic', 'noise'))\n",
    "    st.detrend('demean').detrend('linear')\n",
    "    \n",
    "    # skip the data that has less data points\n",
    "    if st[0].stats.npts < 1626:\n",
    "        continue\n",
    "    \n",
    "    data = np.c_[st[0].data, st[1].data, st[2].data]\n",
    "    #data = data/data.max(axis = 0)\n",
    "    waveforms.append(data)\n",
    "    labels.append(0)\n",
    "    \n",
    "    st = read(item)\n",
    "    st.detrend('demean').detrend('linear')\n",
    "    data = np.c_[st[0].data, st[1].data, st[2].data]\n",
    "    # let's do a simple normalize the data\n",
    "    #data = data/data.max(axis = 0)\n",
    "    waveforms.append(data)\n",
    "    labels.append(1)\n",
    "    \n",
    "waveforms = np.dstack(waveforms)\n",
    "y = np.array(labels)\n",
    "waveforms = waveforms.T"
   ]
  },
  {
   "cell_type": "code",
   "execution_count": 3,
   "metadata": {
    "button": false,
    "new_sheet": false,
    "run_control": {
     "read_only": false
    }
   },
   "outputs": [
    {
     "data": {
      "text/plain": [
       "(528, 3, 1626)"
      ]
     },
     "execution_count": 3,
     "metadata": {},
     "output_type": "execute_result"
    }
   ],
   "source": [
    "waveforms.shape"
   ]
  },
  {
   "cell_type": "code",
   "execution_count": 4,
   "metadata": {
    "button": false,
    "new_sheet": false,
    "run_control": {
     "read_only": false
    }
   },
   "outputs": [
    {
     "data": {
      "text/plain": [
       "(528,)"
      ]
     },
     "execution_count": 4,
     "metadata": {},
     "output_type": "execute_result"
    }
   ],
   "source": [
    "y.shape"
   ]
  },
  {
   "cell_type": "code",
   "execution_count": 5,
   "metadata": {
    "button": false,
    "new_sheet": false,
    "run_control": {
     "read_only": false
    }
   },
   "outputs": [
    {
     "data": {
      "text/plain": [
       "array([0, 1, 0, 1, 0, 1, 0, 1, 0, 1, 0, 1, 0, 1, 0, 1, 0, 1, 0, 1, 0, 1,\n",
       "       0, 1, 0, 1, 0, 1, 0, 1, 0, 1, 0, 1, 0, 1, 0, 1, 0, 1, 0, 1, 0, 1,\n",
       "       0, 1, 0, 1, 0, 1, 0, 1, 0, 1, 0, 1, 0, 1, 0, 1, 0, 1, 0, 1, 0, 1,\n",
       "       0, 1, 0, 1, 0, 1, 0, 1, 0, 1, 0, 1, 0, 1, 0, 1, 0, 1, 0, 1, 0, 1,\n",
       "       0, 1, 0, 1, 0, 1, 0, 1, 0, 1, 0, 1, 0, 1, 0, 1, 0, 1, 0, 1, 0, 1,\n",
       "       0, 1, 0, 1, 0, 1, 0, 1, 0, 1, 0, 1, 0, 1, 0, 1, 0, 1, 0, 1, 0, 1,\n",
       "       0, 1, 0, 1, 0, 1, 0, 1, 0, 1, 0, 1, 0, 1, 0, 1, 0, 1, 0, 1, 0, 1,\n",
       "       0, 1, 0, 1, 0, 1, 0, 1, 0, 1, 0, 1, 0, 1, 0, 1, 0, 1, 0, 1, 0, 1,\n",
       "       0, 1, 0, 1, 0, 1, 0, 1, 0, 1, 0, 1, 0, 1, 0, 1, 0, 1, 0, 1, 0, 1,\n",
       "       0, 1, 0, 1, 0, 1, 0, 1, 0, 1, 0, 1, 0, 1, 0, 1, 0, 1, 0, 1, 0, 1,\n",
       "       0, 1, 0, 1, 0, 1, 0, 1, 0, 1, 0, 1, 0, 1, 0, 1, 0, 1, 0, 1, 0, 1,\n",
       "       0, 1, 0, 1, 0, 1, 0, 1, 0, 1, 0, 1, 0, 1, 0, 1, 0, 1, 0, 1, 0, 1,\n",
       "       0, 1, 0, 1, 0, 1, 0, 1, 0, 1, 0, 1, 0, 1, 0, 1, 0, 1, 0, 1, 0, 1,\n",
       "       0, 1, 0, 1, 0, 1, 0, 1, 0, 1, 0, 1, 0, 1, 0, 1, 0, 1, 0, 1, 0, 1,\n",
       "       0, 1, 0, 1, 0, 1, 0, 1, 0, 1, 0, 1, 0, 1, 0, 1, 0, 1, 0, 1, 0, 1,\n",
       "       0, 1, 0, 1, 0, 1, 0, 1, 0, 1, 0, 1, 0, 1, 0, 1, 0, 1, 0, 1, 0, 1,\n",
       "       0, 1, 0, 1, 0, 1, 0, 1, 0, 1, 0, 1, 0, 1, 0, 1, 0, 1, 0, 1, 0, 1,\n",
       "       0, 1, 0, 1, 0, 1, 0, 1, 0, 1, 0, 1, 0, 1, 0, 1, 0, 1, 0, 1, 0, 1,\n",
       "       0, 1, 0, 1, 0, 1, 0, 1, 0, 1, 0, 1, 0, 1, 0, 1, 0, 1, 0, 1, 0, 1,\n",
       "       0, 1, 0, 1, 0, 1, 0, 1, 0, 1, 0, 1, 0, 1, 0, 1, 0, 1, 0, 1, 0, 1,\n",
       "       0, 1, 0, 1, 0, 1, 0, 1, 0, 1, 0, 1, 0, 1, 0, 1, 0, 1, 0, 1, 0, 1,\n",
       "       0, 1, 0, 1, 0, 1, 0, 1, 0, 1, 0, 1, 0, 1, 0, 1, 0, 1, 0, 1, 0, 1,\n",
       "       0, 1, 0, 1, 0, 1, 0, 1, 0, 1, 0, 1, 0, 1, 0, 1, 0, 1, 0, 1, 0, 1,\n",
       "       0, 1, 0, 1, 0, 1, 0, 1, 0, 1, 0, 1, 0, 1, 0, 1, 0, 1, 0, 1, 0, 1])"
      ]
     },
     "execution_count": 5,
     "metadata": {},
     "output_type": "execute_result"
    }
   ],
   "source": [
    "y"
   ]
  },
  {
   "cell_type": "markdown",
   "metadata": {
    "button": false,
    "new_sheet": false,
    "run_control": {
     "read_only": false
    }
   },
   "source": [
    "## Let's see some examples of noise and EQ waveforms\n",
    "\n",
    "From the above we see that the waveforms are saved in the 3D numpy array, the first axis is the number of samples, 2nd axis is the 3 components, and the last axis is the time series. "
   ]
  },
  {
   "cell_type": "code",
   "execution_count": 6,
   "metadata": {
    "button": false,
    "new_sheet": false,
    "run_control": {
     "read_only": false
    }
   },
   "outputs": [
    {
     "data": {
      "text/plain": [
       "[<matplotlib.lines.Line2D at 0x1a29e44a90>]"
      ]
     },
     "execution_count": 6,
     "metadata": {},
     "output_type": "execute_result"
    },
    {
     "data": {
      "image/png": "[encoded data removed]",
      "text/plain": [
       "<Figure size 576x432 with 1 Axes>"
      ]
     },
     "metadata": {
      "needs_background": "light"
     },
     "output_type": "display_data"
    }
   ],
   "source": [
    "# Noise\n",
    "plt.figure(figsize = (8, 6))\n",
    "plt.plot(waveforms[2, 1, :])"
   ]
  },
  {
   "cell_type": "code",
   "execution_count": 7,
   "metadata": {
    "button": false,
    "new_sheet": false,
    "run_control": {
     "read_only": false
    }
   },
   "outputs": [
    {
     "data": {
      "text/plain": [
       "[<matplotlib.lines.Line2D at 0x1c2b568978>]"
      ]
     },
     "execution_count": 7,
     "metadata": {},
     "output_type": "execute_result"
    },
    {
     "data": {
      "image/png": "[encoded data removed]",
      "text/plain": [
       "<Figure size 576x432 with 1 Axes>"
      ]
     },
     "metadata": {
      "needs_background": "light"
     },
     "output_type": "display_data"
    }
   ],
   "source": [
    "# EQ\n",
    "plt.figure(figsize = (8, 6))\n",
    "plt.plot(waveforms[31, 1, :])"
   ]
  },
  {
   "cell_type": "code",
   "execution_count": 8,
   "metadata": {
    "button": false,
    "new_sheet": false,
    "run_control": {
     "read_only": false
    }
   },
   "outputs": [
    {
     "data": {
      "text/plain": [
       "(3, 1626)"
      ]
     },
     "execution_count": 8,
     "metadata": {},
     "output_type": "execute_result"
    }
   ],
   "source": [
    "waveforms[31, :, :].shape"
   ]
  },
  {
   "cell_type": "markdown",
   "metadata": {
    "button": false,
    "new_sheet": false,
    "run_control": {
     "read_only": false
    }
   },
   "source": [
    "## Extract features\n",
    "\n",
    "Then we need to put the data into a good format so that we can input into ML algorithms. Different packages usually have different input format. Do check the documentation. Since we are using [scikit-learn](https://scikit-learn.org/stable/), you can find more information in this [tutorial](https://scikit-learn.org/stable/tutorial/basic/tutorial.html). \n",
    "\n",
    "We will extract some features and put them into an 2D array with the first axis is number of samples and 2nd axis is the store of different features.\n",
    "\n",
    "Let's first define a function to calculate just 4 features (of course, you can calculate more, we will only use these 4 features to illustrate the main ideas). These features such as mean value, max value, standard deviation, and number of zero crossings are calculated first on each of the 3 components, and then we only keep the largest one from the 3 components. "
   ]
  },
  {
   "cell_type": "code",
   "execution_count": 9,
   "metadata": {
    "button": false,
    "new_sheet": false,
    "run_control": {
     "read_only": false
    }
   },
   "outputs": [],
   "source": [
    "def calculate_features(data):\n",
    "    \n",
    "    # Similar features\n",
    "    mean_amp = np.apply_along_axis(np.mean, 1, np.abs(data))\n",
    "    max_amp = np.apply_along_axis(max, 1, np.abs(data))\n",
    "    std_amp = np.apply_along_axis(np.std, 1, data)\n",
    "    \n",
    "    # useful features\n",
    "    zero_crossings = lambda data: len(np.where(np.diff(np.sign(data)))[0])\n",
    "    zc = np.apply_along_axis(zero_crossings, 1, data)\n",
    "    \n",
    "    # non-useful features at all\n",
    "    duration = len(data[1, :])\n",
    "    \n",
    "    return max(mean_amp), max(max_amp), max(std_amp), max(zc), duration"
   ]
  },
  {
   "cell_type": "code",
   "execution_count": 10,
   "metadata": {
    "button": false,
    "new_sheet": false,
    "run_control": {
     "read_only": false
    }
   },
   "outputs": [],
   "source": [
    "# calculate all the features for each record\n",
    "X = np.array(list(map(calculate_features, waveforms)))"
   ]
  },
  {
   "cell_type": "code",
   "execution_count": 11,
   "metadata": {
    "button": false,
    "new_sheet": false,
    "run_control": {
     "read_only": false
    }
   },
   "outputs": [
    {
     "data": {
      "text/plain": [
       "(528, 5)"
      ]
     },
     "execution_count": 11,
     "metadata": {},
     "output_type": "execute_result"
    }
   ],
   "source": [
    "X.shape"
   ]
  },
  {
   "cell_type": "code",
   "execution_count": 12,
   "metadata": {
    "button": false,
    "new_sheet": false,
    "run_control": {
     "read_only": false
    }
   },
   "outputs": [
    {
     "data": {
      "text/plain": [
       "Text(0, 0.5, 'max_amp')"
      ]
     },
     "execution_count": 12,
     "metadata": {},
     "output_type": "execute_result"
    },
    {
     "data": {
      "image/png": "[encoded data removed]",
      "text/plain": [
       "<Figure size 576x432 with 1 Axes>"
      ]
     },
     "metadata": {
      "needs_background": "light"
     },
     "output_type": "display_data"
    }
   ],
   "source": [
    "plt.figure(figsize = (8, 6))\n",
    "for i, c in zip([0, 1], ['r', 'b']):\n",
    "    ix = y == i \n",
    "    plt.plot(X[:, 3][ix], X[:, 1][ix], 'o', color = c)\n",
    "    plt.yscale('log')\n",
    "    \n",
    "plt.xlabel('ZC')\n",
    "plt.ylabel('max_amp')"
   ]
  },
  {
   "cell_type": "code",
   "execution_count": 13,
   "metadata": {
    "button": false,
    "new_sheet": false,
    "run_control": {
     "read_only": false
    }
   },
   "outputs": [
    {
     "data": {
      "text/plain": [
       "Text(0, 0.5, 'mean_amp')"
      ]
     },
     "execution_count": 13,
     "metadata": {},
     "output_type": "execute_result"
    },
    {
     "data": {
      "image/png": "[encoded data removed]",
      "text/plain": [
       "<Figure size 576x432 with 1 Axes>"
      ]
     },
     "metadata": {
      "needs_background": "light"
     },
     "output_type": "display_data"
    }
   ],
   "source": [
    "plt.figure(figsize = (8, 6))\n",
    "for i, c in zip([0, 1], ['r', 'b']):\n",
    "    ix = y == i \n",
    "    plt.plot(X[:, 1][ix], X[:, 0][ix], 'o', color = c)\n",
    "    plt.yscale('log')\n",
    "plt.xlabel('max_amp')\n",
    "plt.ylabel('mean_amp')"
   ]
  },
  {
   "cell_type": "markdown",
   "metadata": {
    "button": false,
    "new_sheet": false,
    "run_control": {
     "read_only": false
    }
   },
   "source": [
    "## Divide training/testing dataset and preprocessing\n",
    "\n",
    "We talked before that we should divide the data into training and testing so that we only use the testing data once to evaluate the overall performance. Let's use 20% of our dataset as the testing. Also, for some algorithms, it is better to do some preprocessing. The reason we do this usually is to make sure that no individual feature will dominant the results. You can find more information about preprocessing [here](https://scikit-learn.org/stable/modules/preprocessing.html).  "
   ]
  },
  {
   "cell_type": "code",
   "execution_count": 14,
   "metadata": {
    "button": false,
    "new_sheet": false,
    "run_control": {
     "read_only": false
    }
   },
   "outputs": [],
   "source": [
    "X_train, X_test, y_train, y_test = train_test_split(X, y, test_size=.2, random_state = 7)"
   ]
  },
  {
   "cell_type": "code",
   "execution_count": 15,
   "metadata": {
    "button": false,
    "new_sheet": false,
    "run_control": {
     "read_only": false
    }
   },
   "outputs": [
    {
     "name": "stdout",
     "output_type": "stream",
     "text": [
      "422 106\n"
     ]
    }
   ],
   "source": [
    "print(len(X_train), len(X_test))"
   ]
  },
  {
   "cell_type": "markdown",
   "metadata": {
    "button": false,
    "new_sheet": false,
    "run_control": {
     "read_only": false
    }
   },
   "source": [
    "Here we use the [StandardScaler](https://scikit-learn.org/stable/modules/generated/sklearn.preprocessing.StandardScaler.html) to remove the mean and scale each feature to unit variance. "
   ]
  },
  {
   "cell_type": "code",
   "execution_count": 16,
   "metadata": {
    "button": false,
    "new_sheet": false,
    "run_control": {
     "read_only": false
    }
   },
   "outputs": [],
   "source": [
    "standard_scaler = StandardScaler()\n",
    "X_train_scale = standard_scaler.fit_transform(X_train)"
   ]
  },
  {
   "cell_type": "markdown",
   "metadata": {
    "button": false,
    "new_sheet": false,
    "run_control": {
     "read_only": false
    }
   },
   "source": [
    "## Feature selection\n",
    "\n",
    "There are different ways to select the best subset of the features, for example, scikit-learn has various [feature selection](https://scikit-learn.org/stable/modules/feature_selection.html) methods that you can easily use for your purposes. Here we will show how we can select the subset number of features achieve our goal. You can find more introduction of feature selection in this important [paper](http://www.jmlr.org/papers/volume3/guyon03a/guyon03a.pdf). \n",
    "\n",
    "In the following, we show you how to use [KFold Crossvalidation](https://scikit-learn.org/stable/modules/generated/sklearn.model_selection.KFold.html) to select the optimal subset of features. Note that, we use SVC to select the features. [SVC](https://scikit-learn.org/stable/modules/generated/sklearn.svm.SVC.html) is another popular algorithm - support vector machine. You can use other algorithms as well, but usually get similar results. This is also to say, if you have a good list of features, usually different algorithms will perform similarly on the data. "
   ]
  },
  {
   "cell_type": "code",
   "execution_count": 17,
   "metadata": {
    "button": false,
    "new_sheet": false,
    "run_control": {
     "read_only": false
    }
   },
   "outputs": [],
   "source": [
    "from sklearn.svm import SVC\n",
    "from sklearn.feature_selection import RFECV\n",
    "from sklearn.model_selection import KFold"
   ]
  },
  {
   "cell_type": "code",
   "execution_count": 18,
   "metadata": {
    "button": false,
    "new_sheet": false,
    "run_control": {
     "read_only": false
    }
   },
   "outputs": [
    {
     "name": "stdout",
     "output_type": "stream",
     "text": [
      "Optimal number of features : 2\n"
     ]
    }
   ],
   "source": [
    "# Create the RFE object and rank each pixel\n",
    "svc = SVC(kernel=\"linear\", C=1)\n",
    "\n",
    "rfecv = RFECV(estimator=svc, step=1, cv=KFold(2),\n",
    "              scoring='accuracy')\n",
    "# Here in order to speed up, we only use the first 50 records for finding the best features\n",
    "rfecv.fit(X_train_scale, y_train)\n",
    "\n",
    "print(\"Optimal number of features : %d\" % rfecv.n_features_)"
   ]
  },
  {
   "cell_type": "code",
   "execution_count": 19,
   "metadata": {
    "button": false,
    "new_sheet": false,
    "run_control": {
     "read_only": false
    }
   },
   "outputs": [
    {
     "data": {
      "image/png": "[encoded data removed]",
      "text/plain": [
       "<Figure size 576x432 with 1 Axes>"
      ]
     },
     "metadata": {
      "needs_background": "light"
     },
     "output_type": "display_data"
    }
   ],
   "source": [
    "# Plot number of features VS. cross-validation scores\n",
    "plt.figure(figsize = (8, 6))\n",
    "plt.xlabel(\"Number of features selected\")\n",
    "plt.ylabel(\"Cross validation score\")\n",
    "plt.plot(range(1, len(rfecv.grid_scores_) + 1), rfecv.grid_scores_)\n",
    "plt.show()"
   ]
  },
  {
   "cell_type": "code",
   "execution_count": 20,
   "metadata": {
    "button": false,
    "new_sheet": false,
    "run_control": {
     "read_only": false
    }
   },
   "outputs": [
    {
     "data": {
      "text/plain": [
       "array([3, 1, 2, 1, 4])"
      ]
     },
     "execution_count": 20,
     "metadata": {},
     "output_type": "execute_result"
    }
   ],
   "source": [
    "feature_names = ['mean_amp', 'max_amp', 'std_amp', 'zc', 'duration']\n",
    "rfecv.ranking_"
   ]
  },
  {
   "cell_type": "code",
   "execution_count": 21,
   "metadata": {
    "button": false,
    "new_sheet": false,
    "run_control": {
     "read_only": false
    }
   },
   "outputs": [
    {
     "data": {
      "text/plain": [
       "Text(0, 0.5, 'Ranking of the features (1 means selected)')"
      ]
     },
     "execution_count": 21,
     "metadata": {},
     "output_type": "execute_result"
    },
    {
     "data": {
      "image/png": "[encoded data removed]",
      "text/plain": [
       "<Figure size 576x432 with 1 Axes>"
      ]
     },
     "metadata": {
      "needs_background": "light"
     },
     "output_type": "display_data"
    }
   ],
   "source": [
    "plt.figure(figsize = (8, 6))\n",
    "plt.plot(rfecv.ranking_)\n",
    "plt.xticks(range(5), feature_names)\n",
    "plt.ylabel('Ranking of the features (1 means selected)')"
   ]
  },
  {
   "cell_type": "markdown",
   "metadata": {
    "button": false,
    "new_sheet": false,
    "run_control": {
     "read_only": false
    }
   },
   "source": [
    "## Train an ANN model\n",
    "\n",
    "### Tuning hyperparameters\n",
    "\n",
    "Tuning hyperparameters are important in ML algorithms. Since usually there are many parameters that need to be decided by us (even as of today, there are no ML algorithms that don't have any hyperparameters). We use cross-validation to do this. Also, note that, since we need to run a grid of parameters to determine the best parameter combination, it will take a lot of time if you have a large datasets with complicated models. Especially in today's application using deep learning, sometimes it is hard to determine the hyperparameters using cross-validation. For example, to determine how many layers you need to choose, you can always start with simple model with small number of layers and gradually increase the number of layers until you get a good results. "
   ]
  },
  {
   "cell_type": "code",
   "execution_count": 22,
   "metadata": {
    "button": false,
    "new_sheet": false,
    "run_control": {
     "read_only": false
    }
   },
   "outputs": [],
   "source": [
    "from sklearn.neural_network import MLPClassifier\n",
    "from sklearn.model_selection import GridSearchCV"
   ]
  },
  {
   "cell_type": "code",
   "execution_count": 23,
   "metadata": {
    "button": false,
    "new_sheet": false,
    "run_control": {
     "read_only": false
    }
   },
   "outputs": [],
   "source": [
    "X_train_select = X_train[:, [1, 3]]\n",
    "X_test_select = X_test[:, [1, 3]]\n",
    "# re-normalize the two column data\n",
    "standard_scaler = StandardScaler()\n",
    "X_train_scale = standard_scaler.fit_transform(X_train_select)\n",
    "X_test_scale = standard_scaler.transform(X_test_select)"
   ]
  },
  {
   "cell_type": "code",
   "execution_count": 24,
   "metadata": {
    "button": false,
    "new_sheet": false,
    "run_control": {
     "read_only": false
    }
   },
   "outputs": [],
   "source": [
    "# Set the parameters by cross-validation\n",
    "tuned_parameters = [{'hidden_layer_sizes': [(1, ), (2, ), (3, ), (4, ), (1, 1), (2, 2), (3, 3), (4, 4)],\n",
    "                    'solver': ['adam', 'sgd']}]"
   ]
  },
  {
   "cell_type": "code",
   "execution_count": 25,
   "metadata": {
    "button": false,
    "new_sheet": false,
    "run_control": {
     "read_only": false
    }
   },
   "outputs": [
    {
     "name": "stdout",
     "output_type": "stream",
     "text": [
      "# Tuning hyper-parameters for precision\n",
      "\n",
      "Best parameters set found on development set:\n",
      "\n",
      "{'hidden_layer_sizes': (2, 2), 'solver': 'adam'}\n",
      "\n",
      "Grid scores on development set:\n",
      "\n",
      "0.252 (+/-0.014) for {'hidden_layer_sizes': (1,), 'solver': 'adam'}\n",
      "0.252 (+/-0.015) for {'hidden_layer_sizes': (1,), 'solver': 'sgd'}\n",
      "0.993 (+/-0.019) for {'hidden_layer_sizes': (2,), 'solver': 'adam'}\n",
      "0.993 (+/-0.019) for {'hidden_layer_sizes': (2,), 'solver': 'sgd'}\n",
      "0.979 (+/-0.027) for {'hidden_layer_sizes': (3,), 'solver': 'adam'}\n",
      "0.984 (+/-0.024) for {'hidden_layer_sizes': (3,), 'solver': 'sgd'}\n",
      "0.991 (+/-0.018) for {'hidden_layer_sizes': (4,), 'solver': 'adam'}\n",
      "0.986 (+/-0.023) for {'hidden_layer_sizes': (4,), 'solver': 'sgd'}\n",
      "0.252 (+/-0.014) for {'hidden_layer_sizes': (1, 1), 'solver': 'adam'}\n",
      "0.252 (+/-0.014) for {'hidden_layer_sizes': (1, 1), 'solver': 'sgd'}\n",
      "0.995 (+/-0.012) for {'hidden_layer_sizes': (2, 2), 'solver': 'adam'}\n",
      "0.991 (+/-0.017) for {'hidden_layer_sizes': (2, 2), 'solver': 'sgd'}\n",
      "0.995 (+/-0.012) for {'hidden_layer_sizes': (3, 3), 'solver': 'adam'}\n",
      "0.991 (+/-0.018) for {'hidden_layer_sizes': (3, 3), 'solver': 'sgd'}\n",
      "0.977 (+/-0.033) for {'hidden_layer_sizes': (4, 4), 'solver': 'adam'}\n",
      "0.988 (+/-0.021) for {'hidden_layer_sizes': (4, 4), 'solver': 'sgd'}\n",
      "\n",
      "Detailed classification report:\n",
      "\n",
      "The model is trained on the full development set.\n",
      "The scores are computed on the full evaluation set.\n",
      "\n",
      "# Tuning hyper-parameters for recall\n",
      "\n",
      "Best parameters set found on development set:\n",
      "\n",
      "{'hidden_layer_sizes': (2, 2), 'solver': 'adam'}\n",
      "\n",
      "Grid scores on development set:\n",
      "\n",
      "0.500 (+/-0.000) for {'hidden_layer_sizes': (1,), 'solver': 'adam'}\n",
      "0.498 (+/-0.010) for {'hidden_layer_sizes': (1,), 'solver': 'sgd'}\n",
      "0.993 (+/-0.019) for {'hidden_layer_sizes': (2,), 'solver': 'adam'}\n",
      "0.993 (+/-0.019) for {'hidden_layer_sizes': (2,), 'solver': 'sgd'}\n",
      "0.978 (+/-0.028) for {'hidden_layer_sizes': (3,), 'solver': 'adam'}\n",
      "0.983 (+/-0.024) for {'hidden_layer_sizes': (3,), 'solver': 'sgd'}\n",
      "0.991 (+/-0.018) for {'hidden_layer_sizes': (4,), 'solver': 'adam'}\n",
      "0.986 (+/-0.023) for {'hidden_layer_sizes': (4,), 'solver': 'sgd'}\n",
      "0.500 (+/-0.000) for {'hidden_layer_sizes': (1, 1), 'solver': 'adam'}\n",
      "0.500 (+/-0.000) for {'hidden_layer_sizes': (1, 1), 'solver': 'sgd'}\n",
      "0.995 (+/-0.011) for {'hidden_layer_sizes': (2, 2), 'solver': 'adam'}\n",
      "0.991 (+/-0.017) for {'hidden_layer_sizes': (2, 2), 'solver': 'sgd'}\n",
      "0.995 (+/-0.011) for {'hidden_layer_sizes': (3, 3), 'solver': 'adam'}\n",
      "0.991 (+/-0.018) for {'hidden_layer_sizes': (3, 3), 'solver': 'sgd'}\n",
      "0.976 (+/-0.034) for {'hidden_layer_sizes': (4, 4), 'solver': 'adam'}\n",
      "0.988 (+/-0.021) for {'hidden_layer_sizes': (4, 4), 'solver': 'sgd'}\n",
      "\n",
      "Detailed classification report:\n",
      "\n",
      "The model is trained on the full development set.\n",
      "The scores are computed on the full evaluation set.\n",
      "\n"
     ]
    }
   ],
   "source": [
    "scores = ['precision', 'recall']\n",
    "\n",
    "for score in scores:\n",
    "    print(\"# Tuning hyper-parameters for %s\" % score)\n",
    "    print()\n",
    "\n",
    "    clf = GridSearchCV(MLPClassifier(max_iter = 500, early_stopping=True,validation_fraction=0.2, \\\n",
    "                        tol = 1e-5, n_iter_no_change = 20, learning_rate_init = 0.1, random_state =1), tuned_parameters, cv=5, \\\n",
    "                       scoring='%s_macro' % score)\n",
    "    clf.fit(X_train_scale, y_train)\n",
    "\n",
    "    print(\"Best parameters set found on development set:\")\n",
    "    print()\n",
    "    print(clf.best_params_)\n",
    "    print()\n",
    "    print(\"Grid scores on development set:\")\n",
    "    print()\n",
    "    means = clf.cv_results_['mean_test_score']\n",
    "    stds = clf.cv_results_['std_test_score']\n",
    "    for mean, std, params in zip(means, stds, clf.cv_results_['params']):\n",
    "        print(\"%0.3f (+/-%0.03f) for %r\"\n",
    "              % (mean, std * 2, params))\n",
    "    print()\n",
    "\n",
    "    print(\"Detailed classification report:\")\n",
    "    print()\n",
    "    print(\"The model is trained on the full development set.\")\n",
    "    print(\"The scores are computed on the full evaluation set.\")\n",
    "    print()\n"
   ]
  },
  {
   "cell_type": "markdown",
   "metadata": {
    "button": false,
    "new_sheet": false,
    "run_control": {
     "read_only": false
    }
   },
   "source": [
    "## Train and Test the model"
   ]
  },
  {
   "cell_type": "code",
   "execution_count": 26,
   "metadata": {
    "button": false,
    "new_sheet": false,
    "run_control": {
     "read_only": false
    }
   },
   "outputs": [
    {
     "name": "stdout",
     "output_type": "stream",
     "text": [
      "Iteration 1, loss = 0.80109638\n",
      "Validation score: 0.600000\n",
      "Iteration 2, loss = 0.69183886\n",
      "Validation score: 0.882353\n",
      "Iteration 3, loss = 0.56337878\n",
      "Validation score: 1.000000\n",
      "Iteration 4, loss = 0.44894872\n",
      "Validation score: 1.000000\n",
      "Iteration 5, loss = 0.37251174\n",
      "Validation score: 1.000000\n",
      "Iteration 6, loss = 0.31937013\n",
      "Validation score: 1.000000\n",
      "Iteration 7, loss = 0.28298976\n",
      "Validation score: 1.000000\n",
      "Iteration 8, loss = 0.25161410\n",
      "Validation score: 1.000000\n",
      "Iteration 9, loss = 0.22611573\n",
      "Validation score: 1.000000\n",
      "Iteration 10, loss = 0.20505904\n",
      "Validation score: 1.000000\n",
      "Iteration 11, loss = 0.18489890\n",
      "Validation score: 1.000000\n",
      "Iteration 12, loss = 0.16691964\n",
      "Validation score: 1.000000\n",
      "Iteration 13, loss = 0.15235095\n",
      "Validation score: 1.000000\n",
      "Iteration 14, loss = 0.13971131\n",
      "Validation score: 1.000000\n",
      "Iteration 15, loss = 0.12946594\n",
      "Validation score: 1.000000\n",
      "Iteration 16, loss = 0.12116170\n",
      "Validation score: 1.000000\n",
      "Iteration 17, loss = 0.11472953\n",
      "Validation score: 1.000000\n",
      "Iteration 18, loss = 0.10932562\n",
      "Validation score: 1.000000\n",
      "Iteration 19, loss = 0.10531709\n",
      "Validation score: 1.000000\n",
      "Iteration 20, loss = 0.10187038\n",
      "Validation score: 1.000000\n",
      "Iteration 21, loss = 0.09930653\n",
      "Validation score: 1.000000\n",
      "Iteration 22, loss = 0.09735567\n",
      "Validation score: 1.000000\n",
      "Iteration 23, loss = 0.09568962\n",
      "Validation score: 1.000000\n",
      "Iteration 24, loss = 0.09424375\n",
      "Validation score: 1.000000\n",
      "Validation score did not improve more than tol=0.000010 for 20 consecutive epochs. Stopping.\n"
     ]
    },
    {
     "data": {
      "text/plain": [
       "MLPClassifier(activation='relu', alpha=0.0001, batch_size='auto', beta_1=0.9,\n",
       "       beta_2=0.999, early_stopping=True, epsilon=1e-08,\n",
       "       hidden_layer_sizes=(2,), learning_rate='constant',\n",
       "       learning_rate_init=0.1, max_iter=500, momentum=0.9,\n",
       "       n_iter_no_change=20, nesterovs_momentum=True, power_t=0.5,\n",
       "       random_state=5, shuffle=True, solver='sgd', tol=1e-05,\n",
       "       validation_fraction=0.2, verbose=True, warm_start=False)"
      ]
     },
     "execution_count": 26,
     "metadata": {},
     "output_type": "execute_result"
    }
   ],
   "source": [
    "# Initialize ANN classifier\n",
    "mlp = MLPClassifier(hidden_layer_sizes=(2, ), max_iter = 500, learning_rate_init = 0.1, \\\n",
    "                    early_stopping=True, validation_fraction=0.2, solver = 'sgd', \\\n",
    "                    tol = 1e-5, n_iter_no_change = 20, verbose = True, random_state = 5)\n",
    "\n",
    "# Train the classifier with the traning data\n",
    "mlp.fit(X_train_scale,y_train)"
   ]
  },
  {
   "cell_type": "markdown",
   "metadata": {
    "button": false,
    "new_sheet": false,
    "run_control": {
     "read_only": false
    }
   },
   "source": [
    "## Evaluate the model\n",
    "\n",
    "There are various ways to evaluate the model. Here we show you how to get the precision, recall, learning curve, and confusion matrix. "
   ]
  },
  {
   "cell_type": "code",
   "execution_count": 27,
   "metadata": {
    "button": false,
    "new_sheet": false,
    "run_control": {
     "read_only": false
    }
   },
   "outputs": [
    {
     "name": "stdout",
     "output_type": "stream",
     "text": [
      "              precision    recall  f1-score   support\n",
      "\n",
      "           0       0.96      1.00      0.98        47\n",
      "           1       1.00      0.97      0.98        59\n",
      "\n",
      "   micro avg       0.98      0.98      0.98       106\n",
      "   macro avg       0.98      0.98      0.98       106\n",
      "weighted avg       0.98      0.98      0.98       106\n",
      "\n"
     ]
    }
   ],
   "source": [
    "y_true, y_pred = y_test, mlp.predict(X_test_scale)\n",
    "print(classification_report(y_true, y_pred))"
   ]
  },
  {
   "cell_type": "code",
   "execution_count": 28,
   "metadata": {
    "button": false,
    "new_sheet": false,
    "run_control": {
     "read_only": false
    }
   },
   "outputs": [],
   "source": [
    "classification_report?"
   ]
  },
  {
   "cell_type": "markdown",
   "metadata": {
    "button": false,
    "new_sheet": false,
    "run_control": {
     "read_only": false
    }
   },
   "source": [
    "Monitoring the training and validation curves are also important. Usually it can tells you when you should stop, and whether your model has overfitting or not. "
   ]
  },
  {
   "cell_type": "code",
   "execution_count": 29,
   "metadata": {
    "button": false,
    "new_sheet": false,
    "run_control": {
     "read_only": false
    }
   },
   "outputs": [
    {
     "data": {
      "text/plain": [
       "Text(0, 0.5, 'Loss')"
      ]
     },
     "execution_count": 29,
     "metadata": {},
     "output_type": "execute_result"
    },
    {
     "data": {
      "image/png": "[encoded data removed]",
      "text/plain": [
       "<Figure size 576x432 with 1 Axes>"
      ]
     },
     "metadata": {
      "needs_background": "light"
     },
     "output_type": "display_data"
    }
   ],
   "source": [
    "plt.figure(figsize = (8, 6))\n",
    "plt.plot(mlp.loss_curve_)\n",
    "plt.xlabel('Iteration')\n",
    "plt.ylabel('Loss')"
   ]
  },
  {
   "cell_type": "code",
   "execution_count": 30,
   "metadata": {
    "button": false,
    "new_sheet": false,
    "run_control": {
     "read_only": false
    }
   },
   "outputs": [
    {
     "data": {
      "text/plain": [
       "Text(0, 0.5, 'Validation score')"
      ]
     },
     "execution_count": 30,
     "metadata": {},
     "output_type": "execute_result"
    },
    {
     "data": {
      "image/png": "[encoded data removed]",
      "text/plain": [
       "<Figure size 576x432 with 1 Axes>"
      ]
     },
     "metadata": {
      "needs_background": "light"
     },
     "output_type": "display_data"
    }
   ],
   "source": [
    "plt.figure(figsize = (8, 6))\n",
    "plt.plot(mlp.validation_scores_)\n",
    "plt.xlabel('Iteration')\n",
    "plt.ylabel('Validation score')"
   ]
  },
  {
   "cell_type": "markdown",
   "metadata": {
    "button": false,
    "new_sheet": false,
    "run_control": {
     "read_only": false
    }
   },
   "source": [
    "Let's also plot the confusion matrix to see the performance. "
   ]
  },
  {
   "cell_type": "code",
   "execution_count": 31,
   "metadata": {
    "button": false,
    "new_sheet": false,
    "run_control": {
     "read_only": false
    }
   },
   "outputs": [
    {
     "data": {
      "text/plain": [
       "array([[47,  0],\n",
       "       [ 2, 57]])"
      ]
     },
     "execution_count": 31,
     "metadata": {},
     "output_type": "execute_result"
    }
   ],
   "source": [
    "cm = confusion_matrix(y_test, y_pred)\n",
    "cm"
   ]
  },
  {
   "cell_type": "code",
   "execution_count": 32,
   "metadata": {
    "button": false,
    "new_sheet": false,
    "run_control": {
     "read_only": false
    }
   },
   "outputs": [
    {
     "data": {
      "image/png": "[encoded data removed]",
      "text/plain": [
       "<Figure size 576x576 with 2 Axes>"
      ]
     },
     "metadata": {
      "needs_background": "light"
     },
     "output_type": "display_data"
    }
   ],
   "source": [
    "classes = ['noise', 'seismic']\n",
    "\n",
    "fig = plt.figure(figsize=(8, 8)) \n",
    "plt.imshow(cm, interpolation='nearest', cmap=plt.cm.Blues)\n",
    "plt.colorbar()\n",
    "tick_marks = np.arange(len(classes))\n",
    "plt.xticks(tick_marks, classes, rotation=45)\n",
    "plt.yticks(tick_marks, classes)\n",
    "\n",
    "thresh = cm.max() / 2.\n",
    "for i, j in itertools.product(range(cm.shape[0]), range(cm.shape[1])):\n",
    "    plt.text(j, i, cm[i, j],\n",
    "             horizontalalignment=\"center\",\n",
    "             color=\"white\" if cm[i, j] > thresh else \"black\")\n",
    "\n",
    "plt.tight_layout()\n",
    "plt.ylabel('True label')\n",
    "plt.xlabel('Predicted label')\n",
    "plt.show()"
   ]
  },
  {
   "cell_type": "markdown",
   "metadata": {},
   "source": [
    "## Plot the decision boundary"
   ]
  },
  {
   "cell_type": "code",
   "execution_count": 33,
   "metadata": {},
   "outputs": [
    {
     "data": {
      "text/plain": [
       "71.47282377242846"
      ]
     },
     "execution_count": 33,
     "metadata": {},
     "output_type": "execute_result"
    }
   ],
   "source": [
    "X[:, 0].min()"
   ]
  },
  {
   "cell_type": "code",
   "execution_count": 34,
   "metadata": {},
   "outputs": [],
   "source": [
    "# Plotting decision regions\n",
    "x_min, x_max = X_train_scale[:, 0].min() - 1, X_train_scale[:, 0].max() + 1\n",
    "y_min, y_max = X_train_scale[:, 1].min() - 1, X_train_scale[:, 1].max() + 1\n",
    "xx, yy = np.meshgrid(np.arange(x_min, x_max, 0.1),\n",
    "                     np.arange(y_min, y_max, 0.1))\n",
    "\n",
    "Z = mlp.predict(np.c_[xx.ravel(), yy.ravel()])\n",
    "Z = Z.reshape(xx.shape)"
   ]
  },
  {
   "cell_type": "code",
   "execution_count": 35,
   "metadata": {},
   "outputs": [
    {
     "data": {
      "image/png": "[encoded data removed]",
      "text/plain": [
       "<Figure size 576x432 with 1 Axes>"
      ]
     },
     "metadata": {
      "needs_background": "light"
     },
     "output_type": "display_data"
    }
   ],
   "source": [
    "plt.figure(figsize = (8, 6))\n",
    "plt.contourf(xx, yy, Z, alpha=0.4)\n",
    "plt.scatter(X_train_scale[:, 0], X_train_scale[:, 1], c=y_train,\n",
    "                                  s=20, edgecolor='k')\n",
    "plt.xlim(-0.5, 5)\n",
    "plt.show()"
   ]
  },
  {
   "cell_type": "markdown",
   "metadata": {
    "button": false,
    "new_sheet": false,
    "run_control": {
     "read_only": false
    }
   },
   "source": [
    "## Feeding waveforms directly to Deep learning \n",
    "\n",
    "We just quickly show that you can use the waveform directly to detect earthquakes using the deep learning approach, we won't talk too much here and Youzuo will talk more about this part in the later section. "
   ]
  },
  {
   "cell_type": "code",
   "execution_count": 36,
   "metadata": {
    "button": false,
    "new_sheet": false,
    "run_control": {
     "read_only": false
    }
   },
   "outputs": [
    {
     "name": "stderr",
     "output_type": "stream",
     "text": [
      "Using TensorFlow backend.\n"
     ]
    }
   ],
   "source": [
    "import keras\n",
    "from keras.models import Model\n",
    "from keras.layers import Input, Dense, Dropout, Flatten\n",
    "from keras.layers import Conv2D, MaxPooling2D"
   ]
  },
  {
   "cell_type": "code",
   "execution_count": 37,
   "metadata": {
    "button": false,
    "new_sheet": false,
    "run_control": {
     "read_only": false
    }
   },
   "outputs": [],
   "source": [
    "# prepare data\n",
    "X = []\n",
    "y = []\n",
    "num_classes = 2\n",
    "\n",
    "for item in glob.glob(training_folder + 'seismic/*.mseed'):\n",
    "\n",
    "    # read in noise data\n",
    "    st = read(item.replace('seismic', 'noise'))\n",
    "    st.detrend('demean').detrend('linear')\n",
    "    \n",
    "    # skip the data that has less data points\n",
    "    if st[0].stats.npts < 1626:\n",
    "        continue\n",
    "    \n",
    "    data = np.c_[st[0].data, st[1].data, st[2].data]\n",
    "    # let's do a simple normalize the data\n",
    "    data = data/data.max(axis = 0)\n",
    "    X.append(data)\n",
    "    y.append(0)\n",
    "    \n",
    "    st = read(item)\n",
    "    st.detrend('demean').detrend('linear')\n",
    "    data = np.c_[st[0].data, st[1].data, st[2].data]\n",
    "    # let's do a simple normalize the data\n",
    "    data = data/data.max(axis = 0)\n",
    "    X.append(data)\n",
    "    y.append(1)\n",
    "    \n",
    "X = np.dstack(X)\n",
    "y = np.array(y)\n",
    "X = X.T\n",
    "y = keras.utils.to_categorical(y, num_classes)"
   ]
  },
  {
   "cell_type": "code",
   "execution_count": 38,
   "metadata": {
    "button": false,
    "new_sheet": false,
    "run_control": {
     "read_only": false
    }
   },
   "outputs": [
    {
     "data": {
      "text/plain": [
       "(528, 3, 1626)"
      ]
     },
     "execution_count": 38,
     "metadata": {},
     "output_type": "execute_result"
    }
   ],
   "source": [
    "X.shape"
   ]
  },
  {
   "cell_type": "code",
   "execution_count": 39,
   "metadata": {
    "button": false,
    "new_sheet": false,
    "run_control": {
     "read_only": false
    }
   },
   "outputs": [
    {
     "data": {
      "text/plain": [
       "(528, 2)"
      ]
     },
     "execution_count": 39,
     "metadata": {},
     "output_type": "execute_result"
    }
   ],
   "source": [
    "y.shape"
   ]
  },
  {
   "cell_type": "code",
   "execution_count": 40,
   "metadata": {
    "button": false,
    "new_sheet": false,
    "run_control": {
     "read_only": false
    }
   },
   "outputs": [],
   "source": [
    "# input image dimensions\n",
    "img_rows, img_cols = 3, 1626"
   ]
  },
  {
   "cell_type": "code",
   "execution_count": 41,
   "metadata": {
    "button": false,
    "new_sheet": false,
    "run_control": {
     "read_only": false
    }
   },
   "outputs": [],
   "source": [
    "X = X.reshape(X.shape[0], img_rows, img_cols, 1)\n",
    "input_shape = (img_rows, img_cols, 1)"
   ]
  },
  {
   "cell_type": "code",
   "execution_count": 42,
   "metadata": {
    "button": false,
    "new_sheet": false,
    "run_control": {
     "read_only": false
    }
   },
   "outputs": [
    {
     "data": {
      "text/plain": [
       "(528, 3, 1626, 1)"
      ]
     },
     "execution_count": 42,
     "metadata": {},
     "output_type": "execute_result"
    }
   ],
   "source": [
    "X.shape"
   ]
  },
  {
   "cell_type": "code",
   "execution_count": 43,
   "metadata": {
    "button": false,
    "new_sheet": false,
    "run_control": {
     "read_only": false
    }
   },
   "outputs": [],
   "source": [
    "X_train, X_test, y_train, y_test = train_test_split(X, y, test_size=.2, random_state = 7)"
   ]
  },
  {
   "cell_type": "code",
   "execution_count": 44,
   "metadata": {
    "button": false,
    "new_sheet": false,
    "run_control": {
     "read_only": false
    }
   },
   "outputs": [
    {
     "name": "stdout",
     "output_type": "stream",
     "text": [
      "WARNING:tensorflow:From /Users/qingkaikong/miniconda3/lib/python3.6/site-packages/tensorflow/python/framework/op_def_library.py:263: colocate_with (from tensorflow.python.framework.ops) is deprecated and will be removed in a future version.\n",
      "Instructions for updating:\n",
      "Colocations handled automatically by placer.\n",
      "WARNING:tensorflow:From /Users/qingkaikong/miniconda3/lib/python3.6/site-packages/keras/backend/tensorflow_backend.py:3445: calling dropout (from tensorflow.python.ops.nn_ops) with keep_prob is deprecated and will be removed in a future version.\n",
      "Instructions for updating:\n",
      "Please use `rate` instead of `keep_prob`. Rate should be set to `rate = 1 - keep_prob`.\n",
      "_________________________________________________________________\n",
      "Layer (type)                 Output Shape              Param #   \n",
      "=================================================================\n",
      "input_1 (InputLayer)         (None, 3, 1626, 1)        0         \n",
      "_________________________________________________________________\n",
      "conv2d_1 (Conv2D)            (None, 3, 1624, 8)        32        \n",
      "_________________________________________________________________\n",
      "max_pooling2d_1 (MaxPooling2 (None, 3, 812, 8)         0         \n",
      "_________________________________________________________________\n",
      "dropout_1 (Dropout)          (None, 3, 812, 8)         0         \n",
      "_________________________________________________________________\n",
      "flatten_1 (Flatten)          (None, 19488)             0         \n",
      "_________________________________________________________________\n",
      "dense_1 (Dense)              (None, 16)                311824    \n",
      "_________________________________________________________________\n",
      "dropout_2 (Dropout)          (None, 16)                0         \n",
      "_________________________________________________________________\n",
      "dense_2 (Dense)              (None, 2)                 34        \n",
      "=================================================================\n",
      "Total params: 311,890\n",
      "Trainable params: 311,890\n",
      "Non-trainable params: 0\n",
      "_________________________________________________________________\n"
     ]
    }
   ],
   "source": [
    "# define the model\n",
    "inputs = Input(input_shape)\n",
    "x = Conv2D(8, (1, 3), activation='relu')(inputs)\n",
    "x = MaxPooling2D((1, 2))(x)\n",
    "x = Dropout(0.25)(x)\n",
    "x = Flatten()(x)\n",
    "x = Dense(16, activation='relu')(x)\n",
    "x = Dropout(0.5)(x)\n",
    "out = Dense(num_classes, activation='softmax')(x)\n",
    "model = Model(inputs = inputs, outputs = out)\n",
    "\n",
    "model.summary()"
   ]
  },
  {
   "cell_type": "code",
   "execution_count": 45,
   "metadata": {
    "button": false,
    "new_sheet": false,
    "run_control": {
     "read_only": false
    }
   },
   "outputs": [
    {
     "name": "stdout",
     "output_type": "stream",
     "text": [
      "WARNING:tensorflow:From /Users/qingkaikong/miniconda3/lib/python3.6/site-packages/tensorflow/python/ops/math_ops.py:3066: to_int32 (from tensorflow.python.ops.math_ops) is deprecated and will be removed in a future version.\n",
      "Instructions for updating:\n",
      "Use tf.cast instead.\n",
      "Train on 337 samples, validate on 85 samples\n",
      "Epoch 1/10\n",
      "337/337 [==============================] - 1s 2ms/step - loss: 0.3102 - acc: 0.8635 - val_loss: 0.1000 - val_acc: 0.9765\n",
      "Epoch 2/10\n",
      "337/337 [==============================] - 0s 982us/step - loss: 0.1103 - acc: 0.9555 - val_loss: 0.0832 - val_acc: 0.9765\n",
      "Epoch 3/10\n",
      "337/337 [==============================] - 0s 886us/step - loss: 0.0597 - acc: 0.9674 - val_loss: 0.0421 - val_acc: 0.9765\n",
      "Epoch 4/10\n",
      "337/337 [==============================] - 0s 772us/step - loss: 0.0596 - acc: 0.9733 - val_loss: 0.0544 - val_acc: 0.9765\n",
      "Epoch 5/10\n",
      "337/337 [==============================] - 0s 932us/step - loss: 0.0547 - acc: 0.9792 - val_loss: 0.0489 - val_acc: 0.9765\n",
      "Epoch 6/10\n",
      "337/337 [==============================] - 0s 927us/step - loss: 0.0371 - acc: 0.9911 - val_loss: 0.0486 - val_acc: 0.9765\n",
      "Epoch 7/10\n",
      "337/337 [==============================] - 0s 889us/step - loss: 0.0288 - acc: 0.9911 - val_loss: 0.0616 - val_acc: 0.9765\n",
      "Epoch 8/10\n",
      "337/337 [==============================] - 0s 889us/step - loss: 0.0429 - acc: 0.9852 - val_loss: 0.0748 - val_acc: 0.9765\n",
      "Epoch 9/10\n",
      "337/337 [==============================] - 0s 951us/step - loss: 0.0227 - acc: 0.9881 - val_loss: 0.0653 - val_acc: 0.9765\n",
      "Epoch 10/10\n",
      "337/337 [==============================] - 0s 905us/step - loss: 0.0323 - acc: 0.9852 - val_loss: 0.0850 - val_acc: 0.9765\n"
     ]
    }
   ],
   "source": [
    "batch_size = 8\n",
    "epochs = 10\n",
    "\n",
    "model.compile(loss=keras.losses.categorical_crossentropy,\n",
    "              optimizer=keras.optimizers.Adadelta(),\n",
    "              metrics=['accuracy'])\n",
    "\n",
    "# use 20% of the training data as validation\n",
    "history = model.fit(X_train, y_train,\n",
    "          batch_size=batch_size,\n",
    "          epochs=epochs,\n",
    "          verbose=1,\n",
    "          validation_split=0.2)"
   ]
  },
  {
   "cell_type": "code",
   "execution_count": 46,
   "metadata": {
    "button": false,
    "new_sheet": false,
    "run_control": {
     "read_only": false
    }
   },
   "outputs": [
    {
     "data": {
      "text/plain": [
       "<matplotlib.legend.Legend at 0x105b2bcf8>"
      ]
     },
     "execution_count": 46,
     "metadata": {},
     "output_type": "execute_result"
    },
    {
     "data": {
      "image/png": "[encoded data removed]",
      "text/plain": [
       "<Figure size 576x432 with 1 Axes>"
      ]
     },
     "metadata": {
      "needs_background": "light"
     },
     "output_type": "display_data"
    }
   ],
   "source": [
    "plt.figure(figsize = (8, 6))\n",
    "acc = history.history['acc']\n",
    "val_acc = history.history['val_acc']\n",
    "epochs_axis = range(1, len(acc) + 1)\n",
    "plt.plot(epochs_axis, acc, 'b', label='Training accuracy')\n",
    "plt.plot(epochs_axis, val_acc, 'r', label='Validation accuracy')\n",
    "plt.legend()"
   ]
  },
  {
   "cell_type": "markdown",
   "metadata": {
    "button": false,
    "new_sheet": false,
    "run_control": {
     "read_only": false
    }
   },
   "source": [
    "There are many great books and tutorials online, here I list two books that helped me a lot in terms of practical guide.\n",
    "\n",
    "* [Python machine learning](https://www.amazon.com/dp/B0742K7HYF/ref=sspa_dk_detail_0?psc=1) \n",
    "* [Deep learning with Python](https://www.amazon.com/Deep-Learning-Python-Francois-Chollet/dp/1617294438/ref=sr_1_3?keywords=deep+learning+python&qid=1555196961&s=gateway&sr=8-3) "
   ]
  }
 ],
 "metadata": {
  "kernelspec": {
   "display_name": "Python 3",
   "language": "python",
   "name": "python3"
  },
  "language_info": {
   "codemirror_mode": {
    "name": "ipython",
    "version": 3
   },
   "file_extension": ".py",
   "mimetype": "text/x-python",
   "name": "python",
   "nbconvert_exporter": "python",
   "pygments_lexer": "ipython3",
   "version": "3.6.7"
  }
 },
 "nbformat": 4,
 "nbformat_minor": 2
}
